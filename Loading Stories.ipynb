{
 "cells": [
  {
   "cell_type": "markdown",
   "metadata": {},
   "source": [
    "# Loading the Pokemon Stories"
   ]
  },
  {
   "cell_type": "code",
   "execution_count": 1,
   "metadata": {},
   "outputs": [],
   "source": [
    "import sys\n",
    "import pandas as pd\n",
    "import sqlite3 as lite\n",
    "import numpy as np\n",
    "import unicodedata\n",
    "import re"
   ]
  },
  {
   "cell_type": "code",
   "execution_count": 2,
   "metadata": {},
   "outputs": [],
   "source": [
    "def connectToDataBase(database_name, data_folder):\n",
    "    try:\n",
    "        con = lite.connect(data_folder + '/' + database_name + '.sqlite')\n",
    "        cur = con.cursor()\n",
    "        cur.execute('SELECT name FROM sqlite_master WHERE type = \"table\"')\n",
    "        table_names = cur.fetchall()\n",
    "        if len(table_names) == 0: print('Empty Database')\n",
    "        return cur, con, table_names\n",
    "    except:\n",
    "        print('Could not connect to database.')\n",
    "    return None, None, None"
   ]
  },
  {
   "cell_type": "code",
   "execution_count": 3,
   "metadata": {},
   "outputs": [],
   "source": [
    "cwd = 'D:/Websites/StoryWebsiteChatBots/Data/'"
   ]
  },
  {
   "cell_type": "code",
   "execution_count": 4,
   "metadata": {},
   "outputs": [],
   "source": [
    "db_cur, db_con, table_names = connectToDataBase('pokemon', cwd)"
   ]
  },
  {
   "cell_type": "code",
   "execution_count": 5,
   "metadata": {},
   "outputs": [
    {
     "data": {
      "text/plain": [
       "[('sqlite_sequence',), ('Fanfiction',)]"
      ]
     },
     "execution_count": 5,
     "metadata": {},
     "output_type": "execute_result"
    }
   ],
   "source": [
    "table_names"
   ]
  },
  {
   "cell_type": "code",
   "execution_count": 6,
   "metadata": {},
   "outputs": [],
   "source": [
    "def getTableFromDb(db_con, table_name : str):\n",
    "    return pd.read_sql_query('SELECT * FROM ' + table_name, db_con)"
   ]
  },
  {
   "cell_type": "code",
   "execution_count": 7,
   "metadata": {},
   "outputs": [],
   "source": [
    "df = getTableFromDb(db_con, 'Fanfiction')"
   ]
  },
  {
   "cell_type": "code",
   "execution_count": 8,
   "metadata": {},
   "outputs": [
    {
     "data": {
      "text/plain": [
       "\"Ash Ketchum – trainer of Pallet Town, winner of the Orange League and increasingly close runner up in five other regional tournaments – was... confused.He was floating in black, empty nothingness. No light, no sound, nothing to use as a reference point – and, at first, he wasn't sure how he'd ended up there.When he tried to remember, instead of the most recent moments he found something strange happening. His mind went straight back to the earliest moments he could remember – flicking past at astonishing speed, as though his whole life were flashing before his eyes on fast forward.A few things stood out, as though he was slowing down to think about them more clearly.The first time he saw a Pokémon, at barely two years of age, when Professor Oak – taking care of him when Ash's mother was shopping - was called away suddenly and Ash, Gary and Daisy were left under the supervision of his distinguished old Arcanine, a gentle Pokémon, but a terror in battle decades before when Samuel Oak was the League Champion.Only reviewing this long forgotten past now did Ash truly realize that he had felt things differently. Other people, he knew, would feel the heat running under the Fire Pokémon's fur. But few would feel the surging, volcanic power in Arcanine's breast just from being near – faintly, but still somehow there to be felt.Ash hadn't mentioned it at the time, or later. He simply assumed that was what people felt. But now, he was older – and made a connection which suddenly seemed obvious.Aura, he thought. I can feel his Aura. The gentle amusement, the tiny little part of its mind always on the ready for danger. It's just like that Riolu back in Sinnoh... and Lucario.The memory dissolved, and his life played itself out again, perhaps a little slower than before.The time he was five, at Cinnabar island on the black sand beaches, and a snatch of haunting song floated through the air.I know that music… Ash realized. But how? What would Lugia have been doing this far north of\""
      ]
     },
     "execution_count": 8,
     "metadata": {},
     "output_type": "execute_result"
    }
   ],
   "source": [
    "df['Text'].loc[0][:2000]"
   ]
  },
  {
   "cell_type": "code",
   "execution_count": 9,
   "metadata": {},
   "outputs": [],
   "source": [
    "def unicodeToAscii(s):\n",
    "    return ''.join(c for c in unicodedata.normalize('NFD', s) if unicodedata.category(c) != 'Mn')"
   ]
  },
  {
   "cell_type": "code",
   "execution_count": 10,
   "metadata": {},
   "outputs": [],
   "source": [
    "# ToDo : add this to Django site and add tests\n",
    "def processLine(line_string):\n",
    "    line_string = unicodeToAscii(line_string)\n",
    "    line_string = line_string.lower()\n",
    "    \n",
    "    # special case for ...\n",
    "    line_string = re.sub(r'#', '', line_string)\n",
    "    line_string = re.sub(r'\\.\\.\\.', ' #', line_string)\n",
    "\n",
    "    # replace unspaced '.' with a space ' .'\n",
    "    line_string = re.sub(r'\\.', '. ', line_string)\n",
    "    line_string = re.sub(r'  ', ' ', line_string)\n",
    "\n",
    "    # replace space with comma\n",
    "    line_string = re.sub(r', ', ',_,', line_string)\n",
    "    line_string = re.sub(r'[\\s]', ',', line_string)\n",
    "\n",
    "    # get rid of all invalid symbols\n",
    "    line_string = re.sub(r'[^a-z,!\\?\\.\\-0-9\\']', '', line_string)\n",
    "\n",
    "    # Add separators to puncuation\n",
    "    line_string = re.sub(r'[!]', ',!', line_string)\n",
    "    line_string = re.sub(r'[?]', ',?', line_string)\n",
    "    line_string = re.sub(r'[.]', ',.', line_string)\n",
    "\n",
    "    return line_string.split(',')"
   ]
  },
  {
   "cell_type": "code",
   "execution_count": 11,
   "metadata": {},
   "outputs": [],
   "source": [
    "convertListToStr = lambda x : ' '.join(x)"
   ]
  },
  {
   "cell_type": "code",
   "execution_count": 12,
   "metadata": {},
   "outputs": [],
   "source": [
    "df['Text'] = df['Text'].apply(processLine)\n",
    "df['Text'] = df['Text'].apply(convertListToStr)"
   ]
  },
  {
   "cell_type": "code",
   "execution_count": 13,
   "metadata": {},
   "outputs": [
    {
     "data": {
      "text/plain": [
       "0      ash ketchum  trainer of pallet town  winner of...\n",
       "1      ash came groggily to awareness in his home bed...\n",
       "2      we are lost . ash sighed . i know . we are los...\n",
       "3      there you go .  pidgeot flared her wings  dism...\n",
       "4      as the group of friends left the rota pokemon ...\n",
       "                             ...                        \n",
       "296    is the camera ready ? roxy checked . naturally...\n",
       "297    why didn't we take care of this sooner ? jessi...\n",
       "298    okay  so i want to make sure i'm following all...\n",
       "299    it's much warmer down here than it was up arou...\n",
       "300    you know  there's an important question we hav...\n",
       "Name: Text, Length: 301, dtype: object"
      ]
     },
     "execution_count": 13,
     "metadata": {},
     "output_type": "execute_result"
    }
   ],
   "source": [
    "df['Text']"
   ]
  },
  {
   "cell_type": "code",
   "execution_count": 14,
   "metadata": {},
   "outputs": [],
   "source": [
    "def addSentenceSeparators(line_string):\n",
    "    line_string = re.sub(r'\\s\\s', ' ', line_string)\n",
    "    line_string = re.sub(r'(!)+', '!%', line_string)\n",
    "    line_string = re.sub(r'(\\?)+', '?%', line_string)\n",
    "    line_string = re.sub(r'(\\.)+', '.%', line_string)\n",
    "    line_string = re.sub(r'!%\"', '!\"%', line_string)\n",
    "    line_string = re.sub(r'\\?%\"', '?\"%', line_string)\n",
    "    line_string = re.sub(r'\\.%\"', '.\"%', line_string)\n",
    "    return line_string"
   ]
  },
  {
   "cell_type": "code",
   "execution_count": 15,
   "metadata": {},
   "outputs": [],
   "source": [
    "splitByPercSign = lambda x : x.split('%')"
   ]
  },
  {
   "cell_type": "code",
   "execution_count": 16,
   "metadata": {},
   "outputs": [],
   "source": [
    "def createDataFrameOfEverySentence(df):\n",
    "    df_mod = df.copy()\n",
    "\n",
    "    df_mod['Text'] = df_mod['Text'].apply(addSentenceSeparators)\n",
    "    df_mod['Text'] = df_mod['Text'].apply(splitByPercSign)\n",
    "\n",
    "    out_df = pd.DataFrame(data = {'input' : [], 'truth' : []})\n",
    "    ind = 0\n",
    "    for i in df.index:\n",
    "        sentence_list = df_mod.loc[i]['Text']\n",
    "        n_sentences   = len(sentence_list)\n",
    "\n",
    "        new_input = {(ind + j):sentence_list[j] for j in range(n_sentences-1)}\n",
    "        new_truth = {(ind + j):sentence_list[j + 1] for j in range(n_sentences-1)}\n",
    "        new_dict  = {'input' : new_input, 'truth' : new_truth}\n",
    "        new_df    = pd.DataFrame.from_dict(new_dict)\n",
    "        \n",
    "        out_df = out_df.append(new_df)\n",
    "        ind += n_sentences\n",
    "    return out_df"
   ]
  },
  {
   "cell_type": "code",
   "execution_count": 17,
   "metadata": {},
   "outputs": [],
   "source": [
    "sentence_df = createDataFrameOfEverySentence(df)"
   ]
  },
  {
   "cell_type": "code",
   "execution_count": 18,
   "metadata": {},
   "outputs": [
    {
     "data": {
      "text/html": [
       "<div>\n",
       "<style scoped>\n",
       "    .dataframe tbody tr th:only-of-type {\n",
       "        vertical-align: middle;\n",
       "    }\n",
       "\n",
       "    .dataframe tbody tr th {\n",
       "        vertical-align: top;\n",
       "    }\n",
       "\n",
       "    .dataframe thead th {\n",
       "        text-align: right;\n",
       "    }\n",
       "</style>\n",
       "<table border=\"1\" class=\"dataframe\">\n",
       "  <thead>\n",
       "    <tr style=\"text-align: right;\">\n",
       "      <th></th>\n",
       "      <th>input</th>\n",
       "      <th>truth</th>\n",
       "    </tr>\n",
       "  </thead>\n",
       "  <tbody>\n",
       "    <tr>\n",
       "      <th>0</th>\n",
       "      <td>ash ketchum trainer of pallet town winner of t...</td>\n",
       "      <td>he was floating in black empty nothingness .</td>\n",
       "    </tr>\n",
       "    <tr>\n",
       "      <th>1</th>\n",
       "      <td>he was floating in black empty nothingness .</td>\n",
       "      <td>no light no sound nothing to use as a referen...</td>\n",
       "    </tr>\n",
       "    <tr>\n",
       "      <th>2</th>\n",
       "      <td>no light no sound nothing to use as a referen...</td>\n",
       "      <td>when he tried to remember instead of the most...</td>\n",
       "    </tr>\n",
       "    <tr>\n",
       "      <th>3</th>\n",
       "      <td>when he tried to remember instead of the most...</td>\n",
       "      <td>his mind went straight back to the earliest m...</td>\n",
       "    </tr>\n",
       "    <tr>\n",
       "      <th>4</th>\n",
       "      <td>his mind went straight back to the earliest m...</td>\n",
       "      <td>a few things stood out as though he was slowi...</td>\n",
       "    </tr>\n",
       "    <tr>\n",
       "      <th>...</th>\n",
       "      <td>...</td>\n",
       "      <td>...</td>\n",
       "    </tr>\n",
       "    <tr>\n",
       "      <th>183018</th>\n",
       "      <td>that's just another reason to beat paul then !</td>\n",
       "      <td>ash decided .</td>\n",
       "    </tr>\n",
       "    <tr>\n",
       "      <th>183019</th>\n",
       "      <td>ash decided .</td>\n",
       "      <td>you'd think that 'wanting to win the league' ...</td>\n",
       "    </tr>\n",
       "    <tr>\n",
       "      <th>183020</th>\n",
       "      <td>you'd think that 'wanting to win the league' ...</td>\n",
       "      <td>anand i'm moving on to the sinnoh conference .</td>\n",
       "    </tr>\n",
       "    <tr>\n",
       "      <th>183021</th>\n",
       "      <td>anand i'm moving on to the sinnoh conference .</td>\n",
       "      <td>ash does have kind of a tricky problem here .</td>\n",
       "    </tr>\n",
       "    <tr>\n",
       "      <th>183022</th>\n",
       "      <td>ash does have kind of a tricky problem here .</td>\n",
       "      <td></td>\n",
       "    </tr>\n",
       "  </tbody>\n",
       "</table>\n",
       "<p>182723 rows × 2 columns</p>\n",
       "</div>"
      ],
      "text/plain": [
       "                                                    input  \\\n",
       "0       ash ketchum trainer of pallet town winner of t...   \n",
       "1            he was floating in black empty nothingness .   \n",
       "2        no light no sound nothing to use as a referen...   \n",
       "3        when he tried to remember instead of the most...   \n",
       "4        his mind went straight back to the earliest m...   \n",
       "...                                                   ...   \n",
       "183018     that's just another reason to beat paul then !   \n",
       "183019                                      ash decided .   \n",
       "183020   you'd think that 'wanting to win the league' ...   \n",
       "183021     anand i'm moving on to the sinnoh conference .   \n",
       "183022      ash does have kind of a tricky problem here .   \n",
       "\n",
       "                                                    truth  \n",
       "0            he was floating in black empty nothingness .  \n",
       "1        no light no sound nothing to use as a referen...  \n",
       "2        when he tried to remember instead of the most...  \n",
       "3        his mind went straight back to the earliest m...  \n",
       "4        a few things stood out as though he was slowi...  \n",
       "...                                                   ...  \n",
       "183018                                      ash decided .  \n",
       "183019   you'd think that 'wanting to win the league' ...  \n",
       "183020     anand i'm moving on to the sinnoh conference .  \n",
       "183021      ash does have kind of a tricky problem here .  \n",
       "183022                                                     \n",
       "\n",
       "[182723 rows x 2 columns]"
      ]
     },
     "execution_count": 18,
     "metadata": {},
     "output_type": "execute_result"
    }
   ],
   "source": [
    "sentence_df"
   ]
  },
  {
   "cell_type": "code",
   "execution_count": 19,
   "metadata": {},
   "outputs": [],
   "source": [
    "sentence_df.to_csv(cwd + 'pokemon_story.csv')"
   ]
  }
 ],
 "metadata": {
  "kernelspec": {
   "display_name": "SillyAI",
   "language": "python",
   "name": "sillyai"
  },
  "language_info": {
   "codemirror_mode": {
    "name": "ipython",
    "version": 3
   },
   "file_extension": ".py",
   "mimetype": "text/x-python",
   "name": "python",
   "nbconvert_exporter": "python",
   "pygments_lexer": "ipython3",
   "version": "3.8.5"
  }
 },
 "nbformat": 4,
 "nbformat_minor": 4
}
